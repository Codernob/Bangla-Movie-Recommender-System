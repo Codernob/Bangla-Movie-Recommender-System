{
 "cells": [
  {
   "cell_type": "markdown",
   "metadata": {},
   "source": [
    "we will analyze the user review dataset here."
   ]
  },
  {
   "cell_type": "code",
   "execution_count": 1,
   "metadata": {},
   "outputs": [],
   "source": [
    "import pandas as pd"
   ]
  },
  {
   "cell_type": "code",
   "execution_count": 14,
   "metadata": {},
   "outputs": [
    {
     "data": {
      "text/html": [
       "<div>\n",
       "<style scoped>\n",
       "    .dataframe tbody tr th:only-of-type {\n",
       "        vertical-align: middle;\n",
       "    }\n",
       "\n",
       "    .dataframe tbody tr th {\n",
       "        vertical-align: top;\n",
       "    }\n",
       "\n",
       "    .dataframe thead th {\n",
       "        text-align: right;\n",
       "    }\n",
       "</style>\n",
       "<table border=\"1\" class=\"dataframe\">\n",
       "  <thead>\n",
       "    <tr style=\"text-align: right;\">\n",
       "      <th></th>\n",
       "      <th>Unnamed: 0</th>\n",
       "      <th>User_name</th>\n",
       "      <th>Review title</th>\n",
       "      <th>Review Rating</th>\n",
       "      <th>Review date</th>\n",
       "      <th>Review_body</th>\n",
       "      <th>Movie_name</th>\n",
       "      <th>Movie_ID</th>\n",
       "    </tr>\n",
       "  </thead>\n",
       "  <tbody>\n",
       "    <tr>\n",
       "      <th>0</th>\n",
       "      <td>0</td>\n",
       "      <td>adnannizhum</td>\n",
       "      <td>One Time Watch</td>\n",
       "      <td>7</td>\n",
       "      <td>1 November 2021</td>\n",
       "      <td>It is an average film. One time watch. But Faz...</td>\n",
       "      <td>Khachar Bhitor Ochin Pakhi</td>\n",
       "      <td>tt15756034</td>\n",
       "    </tr>\n",
       "    <tr>\n",
       "      <th>1</th>\n",
       "      <td>1</td>\n",
       "      <td>SoumikBanerjee25</td>\n",
       "      <td>These kinds of subjects demand a rather seriou...</td>\n",
       "      <td>3</td>\n",
       "      <td>20 November 2021</td>\n",
       "      <td>Another sub-par attempt from the Bengali Indus...</td>\n",
       "      <td>F.I.R NO. 339/07/06</td>\n",
       "      <td>tt15698592</td>\n",
       "    </tr>\n",
       "    <tr>\n",
       "      <th>2</th>\n",
       "      <td>2</td>\n",
       "      <td>MandalBros-5</td>\n",
       "      <td>A GOOD Bengali Film. 👌</td>\n",
       "      <td>8</td>\n",
       "      <td>30 October 2021</td>\n",
       "      <td>The story of this film is very simple, a polic...</td>\n",
       "      <td>F.I.R NO. 339/07/06</td>\n",
       "      <td>tt15698592</td>\n",
       "    </tr>\n",
       "    <tr>\n",
       "      <th>3</th>\n",
       "      <td>3</td>\n",
       "      <td>shovonbhattachrjee</td>\n",
       "      <td>Good Movie</td>\n",
       "      <td>6</td>\n",
       "      <td>26 October 2021</td>\n",
       "      <td>The storyline of this movie is good and the ac...</td>\n",
       "      <td>F.I.R NO. 339/07/06</td>\n",
       "      <td>tt15698592</td>\n",
       "    </tr>\n",
       "    <tr>\n",
       "      <th>4</th>\n",
       "      <td>4</td>\n",
       "      <td>anandolodh-96284</td>\n",
       "      <td>Good watch</td>\n",
       "      <td>7</td>\n",
       "      <td>23 October 2021</td>\n",
       "      <td>Actually this plot is really strong but direct...</td>\n",
       "      <td>F.I.R NO. 339/07/06</td>\n",
       "      <td>tt15698592</td>\n",
       "    </tr>\n",
       "  </tbody>\n",
       "</table>\n",
       "</div>"
      ],
      "text/plain": [
       "   Unnamed: 0           User_name  \\\n",
       "0           0         adnannizhum   \n",
       "1           1    SoumikBanerjee25   \n",
       "2           2        MandalBros-5   \n",
       "3           3  shovonbhattachrjee   \n",
       "4           4    anandolodh-96284   \n",
       "\n",
       "                                        Review title  Review Rating  \\\n",
       "0                                     One Time Watch              7   \n",
       "1  These kinds of subjects demand a rather seriou...              3   \n",
       "2                             A GOOD Bengali Film. 👌              8   \n",
       "3                                         Good Movie              6   \n",
       "4                                         Good watch              7   \n",
       "\n",
       "        Review date                                        Review_body  \\\n",
       "0   1 November 2021  It is an average film. One time watch. But Faz...   \n",
       "1  20 November 2021  Another sub-par attempt from the Bengali Indus...   \n",
       "2   30 October 2021  The story of this film is very simple, a polic...   \n",
       "3   26 October 2021  The storyline of this movie is good and the ac...   \n",
       "4   23 October 2021  Actually this plot is really strong but direct...   \n",
       "\n",
       "                   Movie_name    Movie_ID  \n",
       "0  Khachar Bhitor Ochin Pakhi  tt15756034  \n",
       "1         F.I.R NO. 339/07/06  tt15698592  \n",
       "2         F.I.R NO. 339/07/06  tt15698592  \n",
       "3         F.I.R NO. 339/07/06  tt15698592  \n",
       "4         F.I.R NO. 339/07/06  tt15698592  "
      ]
     },
     "execution_count": 14,
     "metadata": {},
     "output_type": "execute_result"
    }
   ],
   "source": [
    "dataset = pd.read_csv('bangla movie user rating dataset.csv')\n",
    "dataset.head()"
   ]
  },
  {
   "cell_type": "code",
   "execution_count": 16,
   "metadata": {},
   "outputs": [
    {
     "name": "stdout",
     "output_type": "stream",
     "text": [
      "number of movies :  805\n",
      "number of ratings:  4987\n",
      "number of users who posted ratings:  3487\n"
     ]
    }
   ],
   "source": [
    "print(\"number of movies : \",len(dataset.Movie_ID.unique()))\n",
    "print(\"number of ratings: \",len(dataset))\n",
    "print(\"number of users who posted ratings: \",len(dataset.User_name.unique()))\n"
   ]
  },
  {
   "cell_type": "code",
   "execution_count": null,
   "metadata": {},
   "outputs": [],
   "source": []
  }
 ],
 "metadata": {
  "interpreter": {
   "hash": "639fde48ec0128a88b630484619c8c1a2f485ef59b6c38ec287b184a16f1b08e"
  },
  "kernelspec": {
   "display_name": "Python 3.8.10 64-bit ('base': conda)",
   "language": "python",
   "name": "python3"
  },
  "language_info": {
   "codemirror_mode": {
    "name": "ipython",
    "version": 3
   },
   "file_extension": ".py",
   "mimetype": "text/x-python",
   "name": "python",
   "nbconvert_exporter": "python",
   "pygments_lexer": "ipython3",
   "version": "3.8.10"
  },
  "orig_nbformat": 4
 },
 "nbformat": 4,
 "nbformat_minor": 2
}
