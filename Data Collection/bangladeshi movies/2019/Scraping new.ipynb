{
 "cells": [
  {
   "cell_type": "code",
   "execution_count": 1,
   "source": [
    "from bs4 import BeautifulSoup\r\n",
    "import requests \r\n",
    "import pandas as pd"
   ],
   "outputs": [],
   "metadata": {}
  },
  {
   "cell_type": "code",
   "execution_count": 2,
   "source": [
    "columns=['Movie_ID','Title','Director','Cast','Year','Genre']\r\n",
    "df = pd.DataFrame(columns=columns)\r\n",
    "df"
   ],
   "outputs": [
    {
     "output_type": "execute_result",
     "data": {
      "text/html": [
       "<div>\n",
       "<style scoped>\n",
       "    .dataframe tbody tr th:only-of-type {\n",
       "        vertical-align: middle;\n",
       "    }\n",
       "\n",
       "    .dataframe tbody tr th {\n",
       "        vertical-align: top;\n",
       "    }\n",
       "\n",
       "    .dataframe thead th {\n",
       "        text-align: right;\n",
       "    }\n",
       "</style>\n",
       "<table border=\"1\" class=\"dataframe\">\n",
       "  <thead>\n",
       "    <tr style=\"text-align: right;\">\n",
       "      <th></th>\n",
       "      <th>Movie_ID</th>\n",
       "      <th>Title</th>\n",
       "      <th>Director</th>\n",
       "      <th>Cast</th>\n",
       "      <th>Year</th>\n",
       "      <th>Genre</th>\n",
       "    </tr>\n",
       "  </thead>\n",
       "  <tbody>\n",
       "  </tbody>\n",
       "</table>\n",
       "</div>"
      ],
      "text/plain": [
       "Empty DataFrame\n",
       "Columns: [Movie_ID, Title, Director, Cast, Year, Genre]\n",
       "Index: []"
      ]
     },
     "metadata": {},
     "execution_count": 2
    }
   ],
   "metadata": {}
  },
  {
   "cell_type": "code",
   "execution_count": 3,
   "source": [
    "URL = {\r\n",
    "       2019:'https://en.wikipedia.org/wiki/List_of_Bangladeshi_films_of_2019'\r\n",
    "      }\r\n",
    "id = 2719\r\n",
    "for key, url in URL.items():\r\n",
    "    response = requests.get(url)\r\n",
    "    soup = BeautifulSoup(response.text, 'html.parser')\r\n",
    "    tbl = soup.findAll('table', {'class':\"wikitable sortable\",\"style\":\"width:100%;\"})\r\n",
    "    for t in tbl:\r\n",
    "        table=t.tbody\r\n",
    "        rows = table.find_all('tr')\r\n",
    "        for i in range(1, len(rows)):\r\n",
    "            tds = rows[i].find_all('td')\r\n",
    "            if len(tds)==8:\r\n",
    "                 values = [id, tds[2].text.replace('\\n',''),tds[3].text.replace('\\n',''),tds[4].text.replace('\\n',''), key, tds[5].text.replace('\\n','')]\r\n",
    "\r\n",
    "            elif len(tds)==7:\r\n",
    "                 values = [id, tds[1].text.replace('\\n',''),tds[2].text.replace('\\n',''),tds[3].text.replace('\\n',''), key, tds[4].text.replace('\\n','')]\r\n",
    "\r\n",
    "            elif len(tds)==5 or len(tds)==6:\r\n",
    "                 values = [id, tds[0].text.replace('\\n',''),tds[1].text.replace('\\n',''),tds[2].text.replace('\\n',''), key, tds[3].text.replace('\\n','')]\r\n",
    "\r\n",
    "            id+=1\r\n",
    "            df = df.append(pd.Series(values, index=columns), ignore_index=True)"
   ],
   "outputs": [],
   "metadata": {}
  },
  {
   "cell_type": "code",
   "execution_count": 4,
   "source": [
    "df = df.apply(lambda x : x.lower().strip() if isinstance(x, str) else x)\r\n",
    "df.iloc[df.loc[df['Title'] == 'The Director'].index,5] = \"Drama\"\r\n",
    "df.iloc[df.loc[df['Title'] == 'Akash Mohal'].index,5] = \"Fantasy\"\r\n",
    "df.iloc[df.loc[df['Title'] == 'Begum Jaan'].index,5] = \"Crime, Action\"\r\n",
    "df.iloc[df.loc[df['Title'] == 'Password'].index,5] = \"Crime, Action\"\r\n",
    "df.iloc[df.loc[df['Title'] == 'Anuprobesh'].index,5] = \"Sci-Fi\"\r\n",
    "df.iloc[df.loc[df['Title'] == 'Farayezi Andolan 1842'].index,5] = \"History, Drama\"\r\n",
    "df.iloc[df.loc[df['Title'] == 'Gohiner Gaan'].index,5] = \"Musical\"\r\n",
    "df.to_csv('2019 bangla movie list.csv', index=False)\r\n",
    "df.shape"
   ],
   "outputs": [
    {
     "output_type": "execute_result",
     "data": {
      "text/plain": [
       "(41, 6)"
      ]
     },
     "metadata": {},
     "execution_count": 4
    }
   ],
   "metadata": {}
  },
  {
   "cell_type": "code",
   "execution_count": null,
   "source": [],
   "outputs": [],
   "metadata": {}
  }
 ],
 "metadata": {
  "orig_nbformat": 4,
  "language_info": {
   "name": "python",
   "version": "3.8.10",
   "mimetype": "text/x-python",
   "codemirror_mode": {
    "name": "ipython",
    "version": 3
   },
   "pygments_lexer": "ipython3",
   "nbconvert_exporter": "python",
   "file_extension": ".py"
  },
  "kernelspec": {
   "name": "python3",
   "display_name": "Python 3.8.10 64-bit ('base': conda)"
  },
  "interpreter": {
   "hash": "639fde48ec0128a88b630484619c8c1a2f485ef59b6c38ec287b184a16f1b08e"
  }
 },
 "nbformat": 4,
 "nbformat_minor": 2
}