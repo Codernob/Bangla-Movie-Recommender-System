{
 "cells": [
  {
   "cell_type": "code",
   "execution_count": 1,
   "metadata": {},
   "outputs": [],
   "source": [
    "from bs4 import BeautifulSoup\n",
    "import requests \n",
    "import pandas as pd"
   ]
  },
  {
   "cell_type": "code",
   "execution_count": 2,
   "metadata": {},
   "outputs": [
    {
     "data": {
      "text/html": [
       "<div>\n",
       "<style scoped>\n",
       "    .dataframe tbody tr th:only-of-type {\n",
       "        vertical-align: middle;\n",
       "    }\n",
       "\n",
       "    .dataframe tbody tr th {\n",
       "        vertical-align: top;\n",
       "    }\n",
       "\n",
       "    .dataframe thead th {\n",
       "        text-align: right;\n",
       "    }\n",
       "</style>\n",
       "<table border=\"1\" class=\"dataframe\">\n",
       "  <thead>\n",
       "    <tr style=\"text-align: right;\">\n",
       "      <th></th>\n",
       "      <th>Movie_ID</th>\n",
       "      <th>Title</th>\n",
       "      <th>Director</th>\n",
       "      <th>Cast</th>\n",
       "      <th>Year</th>\n",
       "      <th>Genre</th>\n",
       "    </tr>\n",
       "  </thead>\n",
       "  <tbody>\n",
       "  </tbody>\n",
       "</table>\n",
       "</div>"
      ],
      "text/plain": [
       "Empty DataFrame\n",
       "Columns: [Movie_ID, Title, Director, Cast, Year, Genre]\n",
       "Index: []"
      ]
     },
     "execution_count": 2,
     "metadata": {},
     "output_type": "execute_result"
    }
   ],
   "source": [
    "columns=['Movie_ID','Title','Director','Cast','Year','Genre']\n",
    "df = pd.DataFrame(columns=columns)\n",
    "df"
   ]
  },
  {
   "cell_type": "code",
   "execution_count": 7,
   "metadata": {},
   "outputs": [],
   "source": [
    "URL = {\n",
    "       2019:'https://en.wikipedia.org/wiki/List_of_Bangladeshi_films_of_2009'\n",
    "      }\n",
    "id = 2719\n",
    "for key, url in URL.items():\n",
    "    response = requests.get(url)\n",
    "    soup = BeautifulSoup(response.text, 'html.parser')\n",
    "    tbl = soup.findAll('table', {'class':\"wikitable sortable\"})\n",
    "    for t in tbl:\n",
    "        table=t.tbody\n",
    "        rows = table.find_all('tr')\n",
    "        for i in range(1, len(rows)):\n",
    "          tds = rows[i].find_all('td')\n",
    "          if len(tds)==7:\n",
    "              values = [id, tds[1].text.replace('\\n',''),tds[2].text.replace('\\n',''),tds[3].text.replace('\\n',''), key, tds[4].text.replace('\\n','')]\n",
    "\n",
    "          id+=1\n",
    "          df = df.append(pd.Series(values, index=columns), ignore_index=True)"
   ]
  },
  {
   "cell_type": "code",
   "execution_count": 12,
   "metadata": {},
   "outputs": [
    {
     "data": {
      "text/plain": [
       "(61, 6)"
      ]
     },
     "execution_count": 12,
     "metadata": {},
     "output_type": "execute_result"
    }
   ],
   "source": [
    "df = df.apply(lambda x : x.lower().strip() if isinstance(x, str) else x)\n",
    "df.iloc[df.loc[df['Title'] == 'Nil Achol'].index,5] = \"Drama, Romance\"\n",
    "# df.iloc[df.loc[df['Title'] == 'Akash Mohal'].index,5] = \"Fantasy\"\n",
    "# df.iloc[df.loc[df['Title'] == 'Begum Jaan'].index,5] = \"Crime, Action\"\n",
    "# df.iloc[df.loc[df['Title'] == 'Password'].index,5] = \"Crime, Action\"\n",
    "# df.iloc[df.loc[df['Title'] == 'Anuprobesh'].index,5] = \"Sci-Fi\"\n",
    "# df.iloc[df.loc[df['Title'] == 'Farayezi Andolan 1842'].index,5] = \"History, Drama\"\n",
    "# df.iloc[df.loc[df['Title'] == 'Gohiner Gaan'].index,5] = \"Musical\"\n",
    "df.to_csv('2009 bangla movie list.csv', index=False)\n",
    "df.shape"
   ]
  },
  {
   "cell_type": "code",
   "execution_count": null,
   "metadata": {},
   "outputs": [],
   "source": []
  }
 ],
 "metadata": {
  "interpreter": {
   "hash": "639fde48ec0128a88b630484619c8c1a2f485ef59b6c38ec287b184a16f1b08e"
  },
  "kernelspec": {
   "display_name": "Python 3.8.10 64-bit ('base': conda)",
   "name": "python3"
  },
  "language_info": {
   "codemirror_mode": {
    "name": "ipython",
    "version": 3
   },
   "file_extension": ".py",
   "mimetype": "text/x-python",
   "name": "python",
   "nbconvert_exporter": "python",
   "pygments_lexer": "ipython3",
   "version": "3.8.10"
  },
  "orig_nbformat": 4
 },
 "nbformat": 4,
 "nbformat_minor": 2
}
