{
 "cells": [
  {
   "cell_type": "code",
   "execution_count": 25,
   "source": [
    "from bs4 import BeautifulSoup\r\n",
    "import requests \r\n",
    "import pandas as pd"
   ],
   "outputs": [],
   "metadata": {}
  },
  {
   "cell_type": "code",
   "execution_count": 26,
   "source": [
    "columns=['Movie_ID','Title','Director','Cast','Year','Genre']\r\n",
    "df = pd.DataFrame(columns=columns)\r\n",
    "df"
   ],
   "outputs": [
    {
     "output_type": "execute_result",
     "data": {
      "text/html": [
       "<div>\n",
       "<style scoped>\n",
       "    .dataframe tbody tr th:only-of-type {\n",
       "        vertical-align: middle;\n",
       "    }\n",
       "\n",
       "    .dataframe tbody tr th {\n",
       "        vertical-align: top;\n",
       "    }\n",
       "\n",
       "    .dataframe thead th {\n",
       "        text-align: right;\n",
       "    }\n",
       "</style>\n",
       "<table border=\"1\" class=\"dataframe\">\n",
       "  <thead>\n",
       "    <tr style=\"text-align: right;\">\n",
       "      <th></th>\n",
       "      <th>Movie_ID</th>\n",
       "      <th>Title</th>\n",
       "      <th>Director</th>\n",
       "      <th>Cast</th>\n",
       "      <th>Year</th>\n",
       "      <th>Genre</th>\n",
       "    </tr>\n",
       "  </thead>\n",
       "  <tbody>\n",
       "  </tbody>\n",
       "</table>\n",
       "</div>"
      ],
      "text/plain": [
       "Empty DataFrame\n",
       "Columns: [Movie_ID, Title, Director, Cast, Year, Genre]\n",
       "Index: []"
      ]
     },
     "metadata": {},
     "execution_count": 26
    }
   ],
   "metadata": {}
  },
  {
   "cell_type": "code",
   "execution_count": 27,
   "source": [
    "#regex module\r\n",
    "import re\r\n",
    "def delnum(s): # deletes fragments like [1][2][23] from string\r\n",
    "    pattern = r'\\[[^\\]]*\\]'\r\n",
    "    # Match all digits in the string and replace them with an empty string\r\n",
    "    new_string = re.sub(pattern, '', s)\r\n",
    "    return new_string"
   ],
   "outputs": [],
   "metadata": {}
  },
  {
   "cell_type": "code",
   "execution_count": 28,
   "source": [
    "URL = {\r\n",
    "       2017:'https://en.wikipedia.org/wiki/List_of_Bangladeshi_films_of_2017'\r\n",
    "      }\r\n",
    "id = 2719\r\n",
    "for key, url in URL.items():\r\n",
    "    response = requests.get(url)\r\n",
    "    soup = BeautifulSoup(response.text, 'html.parser')\r\n",
    "    tbl = soup.findAll('table', {'class':\"wikitable sortable\",\"style\":\"width:100%;\"})\r\n",
    "    tbl += soup.findAll('table', {'class':\"wikitable\",\"style\":\"width:70%;\"})\r\n",
    "\r\n",
    "    for t in tbl:\r\n",
    "        table=t.tbody\r\n",
    "        rows = table.find_all('tr')\r\n",
    "        for i in range(1, len(rows)):\r\n",
    "            tds = rows[i].find_all('td')\r\n",
    "\r\n",
    "            if len(tds)==8:  \r\n",
    "                values = [id, tds[2].text.replace('\\n',''), delnum(tds[3].text.replace('\\n','')), tds[4].text.replace('\\n',''), key, tds[5].text.replace('\\n','')]\r\n",
    "\r\n",
    "            elif len(tds)==7:  \r\n",
    "                 values = [id, tds[2].text.replace('\\n',''), delnum(tds[4].text.replace('\\n','')), tds[5].text.replace('\\n',''), key, tds[3].text.replace('\\n','')]\r\n",
    "\r\n",
    "            elif len(tds)==5:\r\n",
    "                values = [id, tds[0].text.replace('\\n',''),tds[2].text.replace('\\n',''),tds[3].text.replace('\\n',''), key, tds[1].text.replace('\\n','')]\r\n",
    "            \r\n",
    "            elif len(tds)==6:\r\n",
    "                if tds[0].text.replace('\\n',\"\") ==\"JAN\":\r\n",
    "                    values = [id, tds[2].text.replace('\\n',''),tds[4].text.replace('\\n',''),tds[5].text.replace('\\n',''), key, tds[3].text.replace('\\n','')]\r\n",
    "                else:\r\n",
    "                    values = [id, tds[1].text.replace('\\n',''),tds[3].text.replace('\\n',''),tds[4].text.replace('\\n',''), key, tds[2].text.replace('\\n','')]\r\n",
    "\r\n",
    "            elif len(tds)==4:\r\n",
    "                # for k in range(4):\r\n",
    "                #     if k!=3:\r\n",
    "                #         print(tds[k].text.replace('\\n',''),end=\"*\")\r\n",
    "                #     else:\r\n",
    "                #         print(tds[k].text.replace('\\n','')) \r\n",
    "                values = [id, tds[1].text.replace('\\n',''),tds[2].text.replace('\\n',''),tds[3].text.replace('\\n',''), key, tds[1].text.replace('\\n','')]\r\n",
    "\r\n",
    "            id+=1\r\n",
    "            df = df.append(pd.Series(values, index=columns), ignore_index=True)\r\n",
    "df.shape\r\n"
   ],
   "outputs": [
    {
     "output_type": "execute_result",
     "data": {
      "text/plain": [
       "(34, 6)"
      ]
     },
     "metadata": {},
     "execution_count": 28
    }
   ],
   "metadata": {}
  },
  {
   "cell_type": "code",
   "execution_count": 29,
   "source": [
    "df = df.apply(lambda x : x.lower().strip() if isinstance(x, str) else x)\r\n",
    "df.iloc[df.loc[df['Title'] == ' The God of Small Things (Film) | জড়েশ্বর[26] [25][27]'].index,1] = \"The God of Small Things\"\r\n",
    "df.iloc[df.loc[df['Title'] == 'The God of Small Things'].index,5] = \"Drama\"\r\n",
    "df.iloc[df.loc[df['Genre'] == 'Romance-Drama'].index,5] = \"Romance, Drama\"\r\n",
    "df.iloc[df.loc[df['Genre'] == 'Romance -Drama'].index,5] = \"Romance, Drama\"\r\n",
    "df.iloc[df.loc[df['Title'] == 'Bengali Beauty'].index,5] = \"Romance, Historical Drama\"\r\n",
    "df.iloc[df.loc[df['Title'] == 'Swatta'].index,5] = \"Romance, Drama\"\r\n",
    "df.iloc[df.loc[df['Title'] == 'Voyonkor Sundor'].index,5] = \"Drama\"\r\n",
    "df.to_csv('2017 bangladeshi movie list.csv', index=False)\r\n",
    "df.shape"
   ],
   "outputs": [
    {
     "output_type": "execute_result",
     "data": {
      "text/plain": [
       "(34, 6)"
      ]
     },
     "metadata": {},
     "execution_count": 29
    }
   ],
   "metadata": {}
  },
  {
   "cell_type": "code",
   "execution_count": null,
   "source": [],
   "outputs": [],
   "metadata": {}
  }
 ],
 "metadata": {
  "orig_nbformat": 4,
  "language_info": {
   "name": "python",
   "version": "3.8.10",
   "mimetype": "text/x-python",
   "codemirror_mode": {
    "name": "ipython",
    "version": 3
   },
   "pygments_lexer": "ipython3",
   "nbconvert_exporter": "python",
   "file_extension": ".py"
  },
  "kernelspec": {
   "name": "python3",
   "display_name": "Python 3.8.10 64-bit ('base': conda)"
  },
  "interpreter": {
   "hash": "639fde48ec0128a88b630484619c8c1a2f485ef59b6c38ec287b184a16f1b08e"
  }
 },
 "nbformat": 4,
 "nbformat_minor": 2
}