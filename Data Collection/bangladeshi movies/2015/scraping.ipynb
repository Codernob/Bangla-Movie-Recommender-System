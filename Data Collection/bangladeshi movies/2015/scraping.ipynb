{
 "cells": [
  {
   "cell_type": "code",
   "execution_count": 16,
   "source": [
    "from bs4 import BeautifulSoup\r\n",
    "import requests \r\n",
    "import pandas as pd"
   ],
   "outputs": [],
   "metadata": {}
  },
  {
   "cell_type": "code",
   "execution_count": 17,
   "source": [
    "columns=['Movie_ID','Title','Year','Genre']\r\n",
    "df = pd.DataFrame(columns=columns)\r\n",
    "df"
   ],
   "outputs": [
    {
     "output_type": "execute_result",
     "data": {
      "text/html": [
       "<div>\n",
       "<style scoped>\n",
       "    .dataframe tbody tr th:only-of-type {\n",
       "        vertical-align: middle;\n",
       "    }\n",
       "\n",
       "    .dataframe tbody tr th {\n",
       "        vertical-align: top;\n",
       "    }\n",
       "\n",
       "    .dataframe thead th {\n",
       "        text-align: right;\n",
       "    }\n",
       "</style>\n",
       "<table border=\"1\" class=\"dataframe\">\n",
       "  <thead>\n",
       "    <tr style=\"text-align: right;\">\n",
       "      <th></th>\n",
       "      <th>Movie_ID</th>\n",
       "      <th>Title</th>\n",
       "      <th>Year</th>\n",
       "      <th>Genre</th>\n",
       "    </tr>\n",
       "  </thead>\n",
       "  <tbody>\n",
       "  </tbody>\n",
       "</table>\n",
       "</div>"
      ],
      "text/plain": [
       "Empty DataFrame\n",
       "Columns: [Movie_ID, Title, Year, Genre]\n",
       "Index: []"
      ]
     },
     "metadata": {},
     "execution_count": 17
    }
   ],
   "metadata": {}
  },
  {
   "cell_type": "code",
   "execution_count": 18,
   "source": [
    "URL = {\r\n",
    "       2015:'https://en.wikipedia.org/wiki/List_of_Bangladeshi_films_of_2015'\r\n",
    "      }\r\n",
    "id = 2719\r\n",
    "for key, url in URL.items():\r\n",
    "    response = requests.get(url)\r\n",
    "    soup = BeautifulSoup(response.text, 'html.parser')\r\n",
    "    tbl = soup.findAll('table', {'class':\"wikitable\"})\r\n",
    "\r\n",
    "    for t in tbl:\r\n",
    "        table=t.tbody\r\n",
    "        rows = table.find_all('tr')\r\n",
    "        for i in range(1, len(rows)):\r\n",
    "            tds = rows[i].find_all('td')\r\n",
    "            if len(tds)==8:\r\n",
    "                values = [id, tds[2].text.replace('\\n',''), key, tds[6].text.replace('\\n','')]\r\n",
    "\r\n",
    "            elif len(tds)==7: \r\n",
    "                values = [id, tds[1].text.replace('\\n',''), key, tds[5].text.replace('\\n','')]\r\n",
    "\r\n",
    "            elif len(tds)==6:\r\n",
    "                # for k in range(6):\r\n",
    "                #     if k!=5:\r\n",
    "                #         print(tds[k].text.replace('\\n',''),end=\"*\")\r\n",
    "                #     else:\r\n",
    "                #         print(tds[k].text.replace('\\n',''))\r\n",
    "                values = [id, tds[0].text.replace('\\n',''), key, tds[4].text.replace('\\n','')]\r\n",
    "            else:\r\n",
    "                continue\r\n",
    "            id+=1\r\n",
    "            df = df.append(pd.Series(values, index=columns), ignore_index=True)\r\n",
    "\r\n",
    "df.shape\r\n"
   ],
   "outputs": [
    {
     "output_type": "execute_result",
     "data": {
      "text/plain": [
       "(31, 4)"
      ]
     },
     "metadata": {},
     "execution_count": 18
    }
   ],
   "metadata": {}
  },
  {
   "cell_type": "code",
   "execution_count": 19,
   "source": [
    "df = df.apply(lambda x : x.lower().strip() if isinstance(x, str) else x)\r\n",
    "df.iloc[df.loc[df['Title'] == 'Kartooz'].index,3] = \"Action, Crime, Thriller\"\r\n",
    "df.iloc[df.loc[df['Title'] == 'This Is Love: Eito Prem'].index,3] = \"Romance, Drama, War\"\r\n",
    "df.iloc[df.loc[df['Title'] == 'Gariwala'].index,3] = \"Family, Drama\"\r\n",
    "df.to_csv('2015 bangladeshi movie list.csv', index=False)\r\n",
    "df.shape"
   ],
   "outputs": [
    {
     "output_type": "execute_result",
     "data": {
      "text/plain": [
       "(31, 4)"
      ]
     },
     "metadata": {},
     "execution_count": 19
    }
   ],
   "metadata": {}
  },
  {
   "cell_type": "code",
   "execution_count": null,
   "source": [],
   "outputs": [],
   "metadata": {}
  }
 ],
 "metadata": {
  "orig_nbformat": 4,
  "language_info": {
   "name": "python",
   "version": "3.8.10",
   "mimetype": "text/x-python",
   "codemirror_mode": {
    "name": "ipython",
    "version": 3
   },
   "pygments_lexer": "ipython3",
   "nbconvert_exporter": "python",
   "file_extension": ".py"
  },
  "kernelspec": {
   "name": "python3",
   "display_name": "Python 3.8.10 64-bit ('base': conda)"
  },
  "interpreter": {
   "hash": "639fde48ec0128a88b630484619c8c1a2f485ef59b6c38ec287b184a16f1b08e"
  }
 },
 "nbformat": 4,
 "nbformat_minor": 2
}