{
 "cells": [
  {
   "cell_type": "code",
   "execution_count": 1,
   "metadata": {},
   "outputs": [],
   "source": [
    "from bs4 import BeautifulSoup\n",
    "import requests \n",
    "import pandas as pd"
   ]
  },
  {
   "cell_type": "code",
   "execution_count": 2,
   "metadata": {},
   "outputs": [
    {
     "data": {
      "text/html": [
       "<div>\n",
       "<style scoped>\n",
       "    .dataframe tbody tr th:only-of-type {\n",
       "        vertical-align: middle;\n",
       "    }\n",
       "\n",
       "    .dataframe tbody tr th {\n",
       "        vertical-align: top;\n",
       "    }\n",
       "\n",
       "    .dataframe thead th {\n",
       "        text-align: right;\n",
       "    }\n",
       "</style>\n",
       "<table border=\"1\" class=\"dataframe\">\n",
       "  <thead>\n",
       "    <tr style=\"text-align: right;\">\n",
       "      <th></th>\n",
       "      <th>Movie_ID</th>\n",
       "      <th>Title</th>\n",
       "      <th>Director</th>\n",
       "      <th>Cast</th>\n",
       "      <th>Year</th>\n",
       "      <th>Genre</th>\n",
       "    </tr>\n",
       "  </thead>\n",
       "  <tbody>\n",
       "  </tbody>\n",
       "</table>\n",
       "</div>"
      ],
      "text/plain": [
       "Empty DataFrame\n",
       "Columns: [Movie_ID, Title, Director, Cast, Year, Genre]\n",
       "Index: []"
      ]
     },
     "execution_count": 2,
     "metadata": {},
     "output_type": "execute_result"
    }
   ],
   "source": [
    "columns=['Movie_ID','Title','Director','Cast','Year','Genre']\n",
    "df = pd.DataFrame(columns=columns)\n",
    "df"
   ]
  },
  {
   "cell_type": "code",
   "execution_count": 3,
   "metadata": {},
   "outputs": [],
   "source": [
    "#regex module\n",
    "import re\n",
    "def delnum(s): # deletes fragments like [1][2][23] from string\n",
    "    pattern = r'\\[[^\\]]*\\]'\n",
    "    # Match all digits in the string and replace them with an empty string\n",
    "    new_string = re.sub(pattern, '', s)\n",
    "    return new_string"
   ]
  },
  {
   "cell_type": "code",
   "execution_count": 4,
   "metadata": {},
   "outputs": [
    {
     "data": {
      "text/plain": [
       "(54, 6)"
      ]
     },
     "execution_count": 4,
     "metadata": {},
     "output_type": "execute_result"
    }
   ],
   "source": [
    "\n",
    "URL = {2013:'https://en.wikipedia.org/wiki/List_of_Bangladeshi_films_of_2013'\n",
    "      }\n",
    "id =2013\n",
    "for key, url in URL.items():\n",
    "    response = requests.get(url)\n",
    "    soup = BeautifulSoup(response.text, 'html.parser')\n",
    "    tbl = soup.findAll('table', {'class':'wikitable sortable'})\n",
    "    s=set()\n",
    "    for t in tbl:\n",
    "        table=t.tbody\n",
    "        rows = table.find_all('tr')\n",
    "        for i in range(1, len(rows)):\n",
    "            tds = rows[i].find_all('td')\n",
    "            s.add(len(tds))\n",
    "           \n",
    "            if len(tds)==6:\n",
    "                values = [id, tds[0].text.replace('\\n',''), tds[1].text.replace('\\n',''), delnum(tds[2].text.replace('\\n','')), key, tds[3].text.replace('\\n','')]\n",
    "\n",
    "            elif len(tds)==7:\n",
    "                 values = [id, tds[1].text.replace('\\n',''), tds[2].text.replace('\\n',''), delnum(tds[3].text.replace('\\n','')), key, tds[4].text.replace('\\n','')]\n",
    "\n",
    "            id+=1\n",
    "            df = df.append(pd.Series(values, index=columns), ignore_index=True)\n",
    "s\n",
    "df.shape\n"
   ]
  },
  {
   "cell_type": "code",
   "execution_count": 5,
   "metadata": {},
   "outputs": [
    {
     "data": {
      "text/plain": [
       "(54, 6)"
      ]
     },
     "execution_count": 5,
     "metadata": {},
     "output_type": "execute_result"
    }
   ],
   "source": [
    "df = df.apply(lambda x : x.lower().strip() if isinstance(x, str) else x)\n",
    "df.to_csv('2013 bangladeshi movie list.csv', index=False)\n",
    "df.shape\n"
   ]
  }
 ],
 "metadata": {
  "interpreter": {
   "hash": "3f800561dde6209f0c647b1ec24b295364b37801e2a63d392a491285ef4d5a88"
  },
  "kernelspec": {
   "display_name": "Python 3.8.8 64-bit ('base': conda)",
   "name": "python3"
  },
  "language_info": {
   "codemirror_mode": {
    "name": "ipython",
    "version": 3
   },
   "file_extension": ".py",
   "mimetype": "text/x-python",
   "name": "python",
   "nbconvert_exporter": "python",
   "pygments_lexer": "ipython3",
   "version": "3.8.8"
  },
  "orig_nbformat": 4
 },
 "nbformat": 4,
 "nbformat_minor": 2
}
