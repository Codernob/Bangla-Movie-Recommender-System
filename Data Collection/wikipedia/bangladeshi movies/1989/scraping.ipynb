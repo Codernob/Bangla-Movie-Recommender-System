{
 "cells": [
  {
   "cell_type": "code",
   "execution_count": 9,
   "metadata": {},
   "outputs": [],
   "source": [
    "from bs4 import BeautifulSoup\n",
    "import requests \n",
    "import pandas as pd"
   ]
  },
  {
   "cell_type": "code",
   "execution_count": 10,
   "metadata": {},
   "outputs": [
    {
     "data": {
      "text/html": [
       "<div>\n",
       "<style scoped>\n",
       "    .dataframe tbody tr th:only-of-type {\n",
       "        vertical-align: middle;\n",
       "    }\n",
       "\n",
       "    .dataframe tbody tr th {\n",
       "        vertical-align: top;\n",
       "    }\n",
       "\n",
       "    .dataframe thead th {\n",
       "        text-align: right;\n",
       "    }\n",
       "</style>\n",
       "<table border=\"1\" class=\"dataframe\">\n",
       "  <thead>\n",
       "    <tr style=\"text-align: right;\">\n",
       "      <th></th>\n",
       "      <th>Movie_ID</th>\n",
       "      <th>Title</th>\n",
       "      <th>Director</th>\n",
       "      <th>Cast</th>\n",
       "      <th>Year</th>\n",
       "      <th>Genre</th>\n",
       "    </tr>\n",
       "  </thead>\n",
       "  <tbody>\n",
       "  </tbody>\n",
       "</table>\n",
       "</div>"
      ],
      "text/plain": [
       "Empty DataFrame\n",
       "Columns: [Movie_ID, Title, Director, Cast, Year, Genre]\n",
       "Index: []"
      ]
     },
     "execution_count": 10,
     "metadata": {},
     "output_type": "execute_result"
    }
   ],
   "source": [
    "columns=['Movie_ID','Title','Director','Cast','Year','Genre']\n",
    "df = pd.DataFrame(columns=columns)\n",
    "df"
   ]
  },
  {
   "cell_type": "code",
   "execution_count": 11,
   "metadata": {},
   "outputs": [
    {
     "data": {
      "text/plain": [
       "(15, 6)"
      ]
     },
     "execution_count": 11,
     "metadata": {},
     "output_type": "execute_result"
    }
   ],
   "source": [
    "URL = {\n",
    "       1989:'https://en.wikipedia.org/wiki/List_of_Bangladeshi_films_of_1989'\n",
    "      }\n",
    "id = 1917\n",
    "for key, url in URL.items():\n",
    "    response = requests.get(url)\n",
    "    soup = BeautifulSoup(response.text, 'html.parser')\n",
    "    tbl = soup.findAll('table', {'class':\"wikitable\"})\n",
    "    for t in tbl:\n",
    "        table=t.tbody\n",
    "        rows = table.find_all('tr')\n",
    "        for i in range(1, len(rows)):\n",
    "            tds = rows[i].find_all('td')\n",
    "            if len(tds)==7:\n",
    "                values = [id, tds[0].text.replace('\\n',''), tds[1].text.replace('\\n',''), tds[2].text.replace('\\n',''), key, tds[3].text.replace('\\n','')]\n",
    "                # for k in range(7):\n",
    "                #     if k!=6:\n",
    "                #         print(tds[k].text.replace('\\n',''),end=\"*\")\n",
    "                #     else:\n",
    "                #         print(tds[k].text.replace('\\n',''))\n",
    "            id+=1\n",
    "            df = df.append(pd.Series(values, index=columns), ignore_index=True)\n",
    "\n",
    "df.shape"
   ]
  },
  {
   "cell_type": "code",
   "execution_count": 12,
   "metadata": {},
   "outputs": [
    {
     "data": {
      "text/plain": [
       "(12, 6)"
      ]
     },
     "execution_count": 12,
     "metadata": {},
     "output_type": "execute_result"
    }
   ],
   "source": [
    "df = df.apply(lambda x : x.lower().strip() if isinstance(x, str) else x)\n",
    "df.iloc[df.loc[df['Title'] == 'Beder Meye Josna'].index,5] = \"Romance,Drama\"\n",
    "df.iloc[df.loc[df['Title'] == 'Bethar Dan'].index,5] = \"Romance,Drama\"\n",
    "df.iloc[df.loc[df['Title'] == 'Ranga Bhabi'].index,5] = \"Family,Drama\"\n",
    "df.iloc[df.loc[df['Title'] == 'Sattya Mittha'].index,5] = \"Roamnce,Drama\"\n",
    "df.iloc[df.loc[df['Title'] == 'Khotipuran'].index,5] = \"Crime,Drama\"\n",
    "df.iloc[df.loc[df['Title'] == 'Biraha Betha'].index,5] = \"Romance,Drama\"\n",
    "df.iloc[df.loc[df['Title'] == 'Birangana Sokhina'].index,5] = \"Drama\"\n",
    "df.iloc[df.loc[df['Title'] == 'Jiner Badshah'].index,5] = \"Comedy,Drama\"\n",
    "df.iloc[df.loc[df['Title'] == 'Bhaijan'].index,5] = \"Drama\"\n",
    "df.iloc[df.loc[df['Title'] == 'Boner Moto Bon'].index,5] = \"Drama\"\n",
    "df.iloc[df.loc[df['Title'] == 'Rangin Nabab Sirajuddaulah'].index,5] = \"History\"\n",
    "df.iloc[df.loc[df['Title'] == 'Bajramusthi'].index,5] = \"Drama\"\n",
    "df.drop(8, axis=0, inplace=True)\n",
    "df.drop(9, axis=0, inplace=True)\n",
    "df.drop(12, axis=0, inplace=True)\n",
    "df.to_csv('1989 bangla movie list.csv', index=False)\n",
    "df.shape"
   ]
  }
 ],
 "metadata": {
  "interpreter": {
   "hash": "d421f7e0be82773f79ff071f6681b3a26ad583fa2b319fe248c43945bdde9151"
  },
  "kernelspec": {
   "display_name": "Python 3.8.8 64-bit ('base': conda)",
   "name": "python3"
  },
  "language_info": {
   "codemirror_mode": {
    "name": "ipython",
    "version": 3
   },
   "file_extension": ".py",
   "mimetype": "text/x-python",
   "name": "python",
   "nbconvert_exporter": "python",
   "pygments_lexer": "ipython3",
   "version": "3.8.8"
  },
  "orig_nbformat": 4
 },
 "nbformat": 4,
 "nbformat_minor": 2
}
