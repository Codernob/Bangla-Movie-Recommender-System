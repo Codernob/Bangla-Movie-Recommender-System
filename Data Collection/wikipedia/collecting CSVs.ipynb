{
 "cells": [
  {
   "cell_type": "code",
   "execution_count": 58,
   "metadata": {},
   "outputs": [
    {
     "name": "stdout",
     "output_type": "stream",
     "text": [
      "   Movie_ID             Title           Director  \\\n",
      "0  83768145           Abortan         Abu Sayeed   \n",
      "1  83768146         Dui Jibon  Abdullah Al Mamun   \n",
      "2  83768147           Jogajog     Moinul Hossain   \n",
      "3  83768148       Bheja Chokh       Shibly Sadiq   \n",
      "4  83768149  Pothe Holo Dekha        Hafiz Uddin   \n",
      "5  83768150          Hiramoti      Amzad Hossain   \n",
      "6  83768151              Stri         Ikram Bizu   \n",
      "7  83768152            Agomon      Subhash Dutta   \n",
      "8  83768153       Jibon Dhara       Motin Rahman   \n",
      "9  83768154          Jantrana         Kazi Hayat   \n",
      "\n",
      "                                     Cast  Year          Genre  \n",
      "0                   Abul Hayat, Laki Inam  1988          Drama  \n",
      "1                             Afzal, Diti  1988        Romance  \n",
      "2  Razzak, Shabnam, Ilias Kanchan, Champa  1988   Drama,Family  \n",
      "3                   Ilias Kanchan, Champa  1988  Drama,Roamnce  \n",
      "4                         Bobita, Alamgir  1988        Romance  \n",
      "5                   Diti, Sohel Chowdhury  1988  Drama,Romance  \n",
      "6                                 Shabana  1988   Family,Drama  \n",
      "7                          Razzak, Bobita  1988          Drama  \n",
      "8                           Rozina, Wasim  1988        Romance  \n",
      "9                                    Anju  1988          Drama  \n"
     ]
    },
    {
     "name": "stderr",
     "output_type": "stream",
     "text": [
      "<ipython-input-58-9a26c3456955>:27: DeprecationWarning: `np.float` is a deprecated alias for the builtin `float`. To silence this warning, use `float` by itself. Doing this will not modify any behavior and is safe. If you specifically wanted the numpy scalar type, use `np.float64` here.\n",
      "Deprecated in NumPy 1.20; for more details and guidance: https://numpy.org/devdocs/release/1.20.0-notes.html#deprecations\n",
      "  combined_csv['Year'] = combined_csv['Year'].astype(np.float).astype(\"Int32\")\n"
     ]
    }
   ],
   "source": [
    "import os,glob\n",
    "import pandas as pd\n",
    "import numpy as np\n",
    "\n",
    "directory = \"D:/github/Bangla-Movie-Recommender-System/Data Collection/wikipedia/bangladeshi movies\"\n",
    "all_filenames = []\n",
    "\n",
    "#python loop through all folders and subfolders\n",
    "for root, subdirectories, files in os.walk(directory):\n",
    "    for subdirectory in subdirectories:\n",
    "        #print(os.path.join(root, subdirectory))\n",
    "        for file in os.listdir(os.path.join(root,subdirectory)):\n",
    "            if file.find('.csv')!=-1:\n",
    "                all_filenames.append(os.path.join(root, subdirectory, file))\n",
    "\n",
    "for i in range(len(all_filenames)):\n",
    "    all_filenames[i] = all_filenames[i].replace('\\\\','/')\n",
    "\n",
    "combined_csv = pd.concat([pd.read_csv(f) for f in all_filenames ])\n",
    "\n",
    "r = 83768145\n",
    "for i in range(len(combined_csv)):\n",
    "    combined_csv.loc[i,'Movie_ID'] = r\n",
    "    r = r+1\n",
    "\n",
    "combined_csv['Movie_ID'] = combined_csv['Movie_ID'].apply(np.int64)\n",
    "combined_csv['Year'] = combined_csv['Year'].astype(np.float).astype(\"Int32\")\n",
    "print(combined_csv.head(10))\n",
    "combined_csv.to_csv( \"wikipedia bangla movie dataset.csv\", index=False, encoding='utf-8-sig')               \n"
   ]
  },
  {
   "cell_type": "code",
   "execution_count": null,
   "metadata": {},
   "outputs": [],
   "source": []
  }
 ],
 "metadata": {
  "interpreter": {
   "hash": "639fde48ec0128a88b630484619c8c1a2f485ef59b6c38ec287b184a16f1b08e"
  },
  "kernelspec": {
   "display_name": "Python 3.8.10 64-bit ('base': conda)",
   "language": "python",
   "name": "python3"
  },
  "language_info": {
   "codemirror_mode": {
    "name": "ipython",
    "version": 3
   },
   "file_extension": ".py",
   "mimetype": "text/x-python",
   "name": "python",
   "nbconvert_exporter": "python",
   "pygments_lexer": "ipython3",
   "version": "3.8.10"
  },
  "orig_nbformat": 4
 },
 "nbformat": 4,
 "nbformat_minor": 2
}
