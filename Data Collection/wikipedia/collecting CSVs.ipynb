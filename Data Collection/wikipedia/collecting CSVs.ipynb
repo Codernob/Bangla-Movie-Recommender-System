{
 "cells": [
  {
   "cell_type": "code",
   "execution_count": 64,
   "metadata": {},
   "outputs": [
    {
     "name": "stderr",
     "output_type": "stream",
     "text": [
      "<ipython-input-64-6129d731bad0>:27: DeprecationWarning: `np.float` is a deprecated alias for the builtin `float`. To silence this warning, use `float` by itself. Doing this will not modify any behavior and is safe. If you specifically wanted the numpy scalar type, use `np.float64` here.\n",
      "Deprecated in NumPy 1.20; for more details and guidance: https://numpy.org/devdocs/release/1.20.0-notes.html#deprecations\n",
      "  combined_csv['Year'] = combined_csv['Year'].astype(np.float).astype(\"Int32\")\n"
     ]
    },
    {
     "ename": "KeyError",
     "evalue": "'[569 570 571 572 573 574 575 576 577 578 579 580 581 582 583 584 585 586\\n 587 588 589 590 591 592 593 594 595 596 597 598 599 600 601 602 603 604\\n 605 606 607 608 609 610 611 612 613 614 615 616 617 618 619 620 621 622\\n 623 624 625 626 627 628 629 630 631 632 633 634 635 636 637 638 639 640\\n 641 642 643 644 645 646 647 648 649 650 651 652 653 654 655 656 657 658\\n 659 660 661 662 663 664 665 666 667 668 669 670 671 672 673 674 675 676\\n 677 678 679 680 681 682 683 684 685 686 687 688 689 690 691 692 693 694\\n 695 696 697 698 699 700 701 702 703 704 705 706 707 708 709 710 711 712\\n 713 714 715 716 717 718 719 720 721 722 723 724 725 726 727 728 729 730\\n 731 732 733 734 735 736 737 738 739 740 741 742 743 744 745 746 747 748\\n 749 750 751 752 753 754 755 756 757 758 759 760 761 762 763 764 765 766\\n 767 768 769 770 771 772 773 774 775 776 777 778 779 780 781 782 783 784\\n 785 786 787 788 789 790 791 792 793 794 795 796 797 798 799 800 801 802\\n 803 804 805 806 807 808 809 810 811 812 813 814 815 816 817 818 819 820\\n 821 822 823 824 825 826 827 828 829 830 831 832 833 834 835 836 837 838\\n 839 840 841 842 843 844 845 846 847 848 849 850 851 852 853 854 855 856\\n 857 858 859 860 861 862 863 864 865 866 867 868 869 870 871 872 873 874\\n 875 876 877 878 879 880 881 882 883 884 885 886 887 888 889 890 891 892\\n 893 894 895 896 897 898 899 900 901 902 903 904 905 906 907 908 909 910\\n 911 912 913 914 915 916 917 918 919 920 921 922 923 924 925 926 927 928\\n 929 930 931 932 933 934 935 936 937 938 939 940 941 942 943 944 945 946\\n 947 948 949 950 951 952 953 954 955 956 957 958 959 960 961 962 963 964\\n 965 966 967 968 969 970 971 972 973 974 975 976 977 978 979 980 981 982\\n 983 984 985 986 987 988 989 990 991 992 993 994 995 996 997 998 999 1000\\n 1001 1002 1003 1004 1005 1006 1007 1008 1009 1010 1011 1012 1013 1014\\n 1015 1016 1017 1018 1019 1020 1021 1022 1023 1024 1025 1026 1027 1028\\n 1029 1030 1031 1032 1033 1034 1035 1036 1037 1038 1039 1040 1041 1042\\n 1043 1044 1045 1046 1047 1048 1049 1050 1051 1052 1053 1054 1055 1056\\n 1057 1058 1059 1060 1061 1062 1063 1064 1065] not found in axis'",
     "output_type": "error",
     "traceback": [
      "\u001b[1;31m---------------------------------------------------------------------------\u001b[0m",
      "\u001b[1;31mKeyError\u001b[0m                                  Traceback (most recent call last)",
      "\u001b[1;32m<ipython-input-64-6129d731bad0>\u001b[0m in \u001b[0;36m<module>\u001b[1;34m\u001b[0m\n\u001b[0;32m     31\u001b[0m     \u001b[0mran\u001b[0m\u001b[1;33m.\u001b[0m\u001b[0mappend\u001b[0m\u001b[1;33m(\u001b[0m\u001b[0mi\u001b[0m\u001b[1;33m)\u001b[0m\u001b[1;33m\u001b[0m\u001b[1;33m\u001b[0m\u001b[0m\n\u001b[0;32m     32\u001b[0m \u001b[1;33m\u001b[0m\u001b[0m\n\u001b[1;32m---> 33\u001b[1;33m \u001b[0mcombined_csv\u001b[0m\u001b[1;33m=\u001b[0m\u001b[0mcombined_csv\u001b[0m\u001b[1;33m.\u001b[0m\u001b[0mdrop\u001b[0m\u001b[1;33m(\u001b[0m\u001b[0mran\u001b[0m\u001b[1;33m)\u001b[0m\u001b[1;33m\u001b[0m\u001b[1;33m\u001b[0m\u001b[0m\n\u001b[0m\u001b[0;32m     34\u001b[0m \u001b[1;33m\u001b[0m\u001b[0m\n\u001b[0;32m     35\u001b[0m \u001b[0mprint\u001b[0m\u001b[1;33m(\u001b[0m\u001b[0mcombined_csv\u001b[0m\u001b[1;33m.\u001b[0m\u001b[0mhead\u001b[0m\u001b[1;33m(\u001b[0m\u001b[1;36m10\u001b[0m\u001b[1;33m)\u001b[0m\u001b[1;33m)\u001b[0m\u001b[1;33m\u001b[0m\u001b[1;33m\u001b[0m\u001b[0m\n",
      "\u001b[1;32m~\\anaconda3\\lib\\site-packages\\pandas\\util\\_decorators.py\u001b[0m in \u001b[0;36mwrapper\u001b[1;34m(*args, **kwargs)\u001b[0m\n\u001b[0;32m    309\u001b[0m                     \u001b[0mstacklevel\u001b[0m\u001b[1;33m=\u001b[0m\u001b[0mstacklevel\u001b[0m\u001b[1;33m,\u001b[0m\u001b[1;33m\u001b[0m\u001b[1;33m\u001b[0m\u001b[0m\n\u001b[0;32m    310\u001b[0m                 )\n\u001b[1;32m--> 311\u001b[1;33m             \u001b[1;32mreturn\u001b[0m \u001b[0mfunc\u001b[0m\u001b[1;33m(\u001b[0m\u001b[1;33m*\u001b[0m\u001b[0margs\u001b[0m\u001b[1;33m,\u001b[0m \u001b[1;33m**\u001b[0m\u001b[0mkwargs\u001b[0m\u001b[1;33m)\u001b[0m\u001b[1;33m\u001b[0m\u001b[1;33m\u001b[0m\u001b[0m\n\u001b[0m\u001b[0;32m    312\u001b[0m \u001b[1;33m\u001b[0m\u001b[0m\n\u001b[0;32m    313\u001b[0m         \u001b[1;32mreturn\u001b[0m \u001b[0mwrapper\u001b[0m\u001b[1;33m\u001b[0m\u001b[1;33m\u001b[0m\u001b[0m\n",
      "\u001b[1;32m~\\anaconda3\\lib\\site-packages\\pandas\\core\\frame.py\u001b[0m in \u001b[0;36mdrop\u001b[1;34m(self, labels, axis, index, columns, level, inplace, errors)\u001b[0m\n\u001b[0;32m   4899\u001b[0m                 \u001b[0mweight\u001b[0m  \u001b[1;36m1.0\u001b[0m     \u001b[1;36m0.8\u001b[0m\u001b[1;33m\u001b[0m\u001b[1;33m\u001b[0m\u001b[0m\n\u001b[0;32m   4900\u001b[0m         \"\"\"\n\u001b[1;32m-> 4901\u001b[1;33m         return super().drop(\n\u001b[0m\u001b[0;32m   4902\u001b[0m             \u001b[0mlabels\u001b[0m\u001b[1;33m=\u001b[0m\u001b[0mlabels\u001b[0m\u001b[1;33m,\u001b[0m\u001b[1;33m\u001b[0m\u001b[1;33m\u001b[0m\u001b[0m\n\u001b[0;32m   4903\u001b[0m             \u001b[0maxis\u001b[0m\u001b[1;33m=\u001b[0m\u001b[0maxis\u001b[0m\u001b[1;33m,\u001b[0m\u001b[1;33m\u001b[0m\u001b[1;33m\u001b[0m\u001b[0m\n",
      "\u001b[1;32m~\\anaconda3\\lib\\site-packages\\pandas\\core\\generic.py\u001b[0m in \u001b[0;36mdrop\u001b[1;34m(self, labels, axis, index, columns, level, inplace, errors)\u001b[0m\n\u001b[0;32m   4145\u001b[0m         \u001b[1;32mfor\u001b[0m \u001b[0maxis\u001b[0m\u001b[1;33m,\u001b[0m \u001b[0mlabels\u001b[0m \u001b[1;32min\u001b[0m \u001b[0maxes\u001b[0m\u001b[1;33m.\u001b[0m\u001b[0mitems\u001b[0m\u001b[1;33m(\u001b[0m\u001b[1;33m)\u001b[0m\u001b[1;33m:\u001b[0m\u001b[1;33m\u001b[0m\u001b[1;33m\u001b[0m\u001b[0m\n\u001b[0;32m   4146\u001b[0m             \u001b[1;32mif\u001b[0m \u001b[0mlabels\u001b[0m \u001b[1;32mis\u001b[0m \u001b[1;32mnot\u001b[0m \u001b[1;32mNone\u001b[0m\u001b[1;33m:\u001b[0m\u001b[1;33m\u001b[0m\u001b[1;33m\u001b[0m\u001b[0m\n\u001b[1;32m-> 4147\u001b[1;33m                 \u001b[0mobj\u001b[0m \u001b[1;33m=\u001b[0m \u001b[0mobj\u001b[0m\u001b[1;33m.\u001b[0m\u001b[0m_drop_axis\u001b[0m\u001b[1;33m(\u001b[0m\u001b[0mlabels\u001b[0m\u001b[1;33m,\u001b[0m \u001b[0maxis\u001b[0m\u001b[1;33m,\u001b[0m \u001b[0mlevel\u001b[0m\u001b[1;33m=\u001b[0m\u001b[0mlevel\u001b[0m\u001b[1;33m,\u001b[0m \u001b[0merrors\u001b[0m\u001b[1;33m=\u001b[0m\u001b[0merrors\u001b[0m\u001b[1;33m)\u001b[0m\u001b[1;33m\u001b[0m\u001b[1;33m\u001b[0m\u001b[0m\n\u001b[0m\u001b[0;32m   4148\u001b[0m \u001b[1;33m\u001b[0m\u001b[0m\n\u001b[0;32m   4149\u001b[0m         \u001b[1;32mif\u001b[0m \u001b[0minplace\u001b[0m\u001b[1;33m:\u001b[0m\u001b[1;33m\u001b[0m\u001b[1;33m\u001b[0m\u001b[0m\n",
      "\u001b[1;32m~\\anaconda3\\lib\\site-packages\\pandas\\core\\generic.py\u001b[0m in \u001b[0;36m_drop_axis\u001b[1;34m(self, labels, axis, level, errors)\u001b[0m\n\u001b[0;32m   4203\u001b[0m                 \u001b[0mlabels_missing\u001b[0m \u001b[1;33m=\u001b[0m \u001b[1;33m(\u001b[0m\u001b[0maxis\u001b[0m\u001b[1;33m.\u001b[0m\u001b[0mget_indexer_for\u001b[0m\u001b[1;33m(\u001b[0m\u001b[0mlabels\u001b[0m\u001b[1;33m)\u001b[0m \u001b[1;33m==\u001b[0m \u001b[1;33m-\u001b[0m\u001b[1;36m1\u001b[0m\u001b[1;33m)\u001b[0m\u001b[1;33m.\u001b[0m\u001b[0many\u001b[0m\u001b[1;33m(\u001b[0m\u001b[1;33m)\u001b[0m\u001b[1;33m\u001b[0m\u001b[1;33m\u001b[0m\u001b[0m\n\u001b[0;32m   4204\u001b[0m                 \u001b[1;32mif\u001b[0m \u001b[0merrors\u001b[0m \u001b[1;33m==\u001b[0m \u001b[1;34m\"raise\"\u001b[0m \u001b[1;32mand\u001b[0m \u001b[0mlabels_missing\u001b[0m\u001b[1;33m:\u001b[0m\u001b[1;33m\u001b[0m\u001b[1;33m\u001b[0m\u001b[0m\n\u001b[1;32m-> 4205\u001b[1;33m                     \u001b[1;32mraise\u001b[0m \u001b[0mKeyError\u001b[0m\u001b[1;33m(\u001b[0m\u001b[1;34mf\"{labels} not found in axis\"\u001b[0m\u001b[1;33m)\u001b[0m\u001b[1;33m\u001b[0m\u001b[1;33m\u001b[0m\u001b[0m\n\u001b[0m\u001b[0;32m   4206\u001b[0m \u001b[1;33m\u001b[0m\u001b[0m\n\u001b[0;32m   4207\u001b[0m             \u001b[0mslicer\u001b[0m \u001b[1;33m=\u001b[0m \u001b[1;33m[\u001b[0m\u001b[0mslice\u001b[0m\u001b[1;33m(\u001b[0m\u001b[1;32mNone\u001b[0m\u001b[1;33m)\u001b[0m\u001b[1;33m]\u001b[0m \u001b[1;33m*\u001b[0m \u001b[0mself\u001b[0m\u001b[1;33m.\u001b[0m\u001b[0mndim\u001b[0m\u001b[1;33m\u001b[0m\u001b[1;33m\u001b[0m\u001b[0m\n",
      "\u001b[1;31mKeyError\u001b[0m: '[569 570 571 572 573 574 575 576 577 578 579 580 581 582 583 584 585 586\\n 587 588 589 590 591 592 593 594 595 596 597 598 599 600 601 602 603 604\\n 605 606 607 608 609 610 611 612 613 614 615 616 617 618 619 620 621 622\\n 623 624 625 626 627 628 629 630 631 632 633 634 635 636 637 638 639 640\\n 641 642 643 644 645 646 647 648 649 650 651 652 653 654 655 656 657 658\\n 659 660 661 662 663 664 665 666 667 668 669 670 671 672 673 674 675 676\\n 677 678 679 680 681 682 683 684 685 686 687 688 689 690 691 692 693 694\\n 695 696 697 698 699 700 701 702 703 704 705 706 707 708 709 710 711 712\\n 713 714 715 716 717 718 719 720 721 722 723 724 725 726 727 728 729 730\\n 731 732 733 734 735 736 737 738 739 740 741 742 743 744 745 746 747 748\\n 749 750 751 752 753 754 755 756 757 758 759 760 761 762 763 764 765 766\\n 767 768 769 770 771 772 773 774 775 776 777 778 779 780 781 782 783 784\\n 785 786 787 788 789 790 791 792 793 794 795 796 797 798 799 800 801 802\\n 803 804 805 806 807 808 809 810 811 812 813 814 815 816 817 818 819 820\\n 821 822 823 824 825 826 827 828 829 830 831 832 833 834 835 836 837 838\\n 839 840 841 842 843 844 845 846 847 848 849 850 851 852 853 854 855 856\\n 857 858 859 860 861 862 863 864 865 866 867 868 869 870 871 872 873 874\\n 875 876 877 878 879 880 881 882 883 884 885 886 887 888 889 890 891 892\\n 893 894 895 896 897 898 899 900 901 902 903 904 905 906 907 908 909 910\\n 911 912 913 914 915 916 917 918 919 920 921 922 923 924 925 926 927 928\\n 929 930 931 932 933 934 935 936 937 938 939 940 941 942 943 944 945 946\\n 947 948 949 950 951 952 953 954 955 956 957 958 959 960 961 962 963 964\\n 965 966 967 968 969 970 971 972 973 974 975 976 977 978 979 980 981 982\\n 983 984 985 986 987 988 989 990 991 992 993 994 995 996 997 998 999 1000\\n 1001 1002 1003 1004 1005 1006 1007 1008 1009 1010 1011 1012 1013 1014\\n 1015 1016 1017 1018 1019 1020 1021 1022 1023 1024 1025 1026 1027 1028\\n 1029 1030 1031 1032 1033 1034 1035 1036 1037 1038 1039 1040 1041 1042\\n 1043 1044 1045 1046 1047 1048 1049 1050 1051 1052 1053 1054 1055 1056\\n 1057 1058 1059 1060 1061 1062 1063 1064 1065] not found in axis'"
     ]
    }
   ],
   "source": [
    "# this little script will combine all the CSVs into one big CSV\n",
    "\n",
    "import os\n",
    "import pandas as pd\n",
    "import numpy as np\n",
    "\n",
    "directory = \"D:/github/Bangla-Movie-Recommender-System/Data Collection/wikipedia/bangladeshi movies\" # current directory\n",
    "all_filenames = [] # list of directories which hold the CSV files\n",
    "\n",
    "#python loop through all folders and subfolders\n",
    "for root, subdirectories, files in os.walk(directory):\n",
    "    for subdirectory in subdirectories:\n",
    "        #print(os.path.join(root, subdirectory))\n",
    "        for file in os.listdir(os.path.join(root,subdirectory)):\n",
    "            if file.find('.csv')!=-1:\n",
    "                all_filenames.append(os.path.join(root, subdirectory, file))\n",
    "\n",
    "for i in range(len(all_filenames)):\n",
    "    all_filenames[i] = all_filenames[i].replace('\\\\','/')\n",
    "\n",
    "combined_csv = pd.concat([pd.read_csv(f) for f in all_filenames ])  # combine all the CSV's into combined_csv\n",
    "\n",
    "r = 83768145 # random starting movie id\n",
    "for i in range(len(combined_csv)):\n",
    "    combined_csv.loc[i,'Movie_ID'] = r\n",
    "    r = r+1\n",
    "\n",
    "combined_csv['Movie_ID'] = combined_csv['Movie_ID'].apply(np.int64) # converting float column to int\n",
    "combined_csv['Year'] = combined_csv['Year'].astype(np.float).astype(\"Int32\") # converting float column to int\n",
    "\n",
    "\n",
    "print(combined_csv.head(10))\n",
    "combined_csv.to_csv( \"wikipedia bangla movie dataset.csv\", index=False, encoding='utf-8-sig')    # save the CSV as a file           \n"
   ]
  },
  {
   "cell_type": "code",
   "execution_count": null,
   "metadata": {},
   "outputs": [],
   "source": []
  }
 ],
 "metadata": {
  "interpreter": {
   "hash": "639fde48ec0128a88b630484619c8c1a2f485ef59b6c38ec287b184a16f1b08e"
  },
  "kernelspec": {
   "display_name": "Python 3.8.10 64-bit ('base': conda)",
   "language": "python",
   "name": "python3"
  },
  "language_info": {
   "codemirror_mode": {
    "name": "ipython",
    "version": 3
   },
   "file_extension": ".py",
   "mimetype": "text/x-python",
   "name": "python",
   "nbconvert_exporter": "python",
   "pygments_lexer": "ipython3",
   "version": "3.8.10"
  },
  "orig_nbformat": 4
 },
 "nbformat": 4,
 "nbformat_minor": 2
}
